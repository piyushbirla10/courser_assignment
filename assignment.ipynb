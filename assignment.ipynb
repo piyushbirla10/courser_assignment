{
 "cells": [
  {
   "cell_type": "code",
   "execution_count": 5,
   "id": "b2550563-a39a-4bc4-846a-bf12874d5d46",
   "metadata": {},
   "outputs": [
    {
     "name": "stdout",
     "output_type": "stream",
     "text": [
      "                               Open      High       Low     Close     Volume  \\\n",
      "Date                                                                           \n",
      "2010-06-29 00:00:00-04:00  1.266667  1.666667  1.169333  1.592667  281494500   \n",
      "2010-06-30 00:00:00-04:00  1.719333  2.028000  1.553333  1.588667  257806500   \n",
      "2010-07-01 00:00:00-04:00  1.666667  1.728000  1.351333  1.464000  123282000   \n",
      "2010-07-02 00:00:00-04:00  1.533333  1.540000  1.247333  1.280000   77097000   \n",
      "2010-07-06 00:00:00-04:00  1.333333  1.333333  1.055333  1.074000  103003500   \n",
      "\n",
      "                           Dividends  Stock Splits  \n",
      "Date                                                \n",
      "2010-06-29 00:00:00-04:00        0.0           0.0  \n",
      "2010-06-30 00:00:00-04:00        0.0           0.0  \n",
      "2010-07-01 00:00:00-04:00        0.0           0.0  \n",
      "2010-07-02 00:00:00-04:00        0.0           0.0  \n",
      "2010-07-06 00:00:00-04:00        0.0           0.0  \n"
     ]
    }
   ],
   "source": [
    "import yfinance as yf\n",
    "\n",
    "# Define the Tesla ticker symbol\n",
    "tesla_ticker = 'TSLA'\n",
    "\n",
    "# Fetch Tesla stock data\n",
    "tesla_data = yf.Ticker(tesla_ticker)\n",
    "\n",
    "# Extract the historical market data\n",
    "tesla_history = tesla_data.history(period=\"max\")\n",
    "\n",
    "# Display the first few rows of Tesla stock data\n",
    "print(tesla_history.head())"
   ]
  },
  {
   "cell_type": "code",
   "execution_count": 16,
   "id": "e6d698b3-271a-4f35-8176-49f1b13c150b",
   "metadata": {},
   "outputs": [
    {
     "name": "stdout",
     "output_type": "stream",
     "text": [
      "                             Open    High    Low   Close    Volume  Dividends  \\\n",
      "Date                                                                            \n",
      "2019-10-08 00:00:00-04:00  1.3575  1.3600  1.290  1.3075  19292400        0.0   \n",
      "2019-10-09 00:00:00-04:00  1.3125  1.3250  1.240  1.2475  23238400        0.0   \n",
      "2019-10-10 00:00:00-04:00  1.2550  1.2875  1.240  1.2625  20912000        0.0   \n",
      "2019-10-11 00:00:00-04:00  1.2850  1.3725  1.285  1.3425  23636800        0.0   \n",
      "2019-10-14 00:00:00-04:00  1.3300  1.3975  1.305  1.3950  21095600        0.0   \n",
      "\n",
      "                           Stock Splits  \n",
      "Date                                     \n",
      "2019-10-08 00:00:00-04:00           0.0  \n",
      "2019-10-09 00:00:00-04:00           0.0  \n",
      "2019-10-10 00:00:00-04:00           0.0  \n",
      "2019-10-11 00:00:00-04:00           0.0  \n",
      "2019-10-14 00:00:00-04:00           0.0  \n"
     ]
    }
   ],
   "source": [
    "import yfinance as yf\n",
    "\n",
    "# Define the stock symbol for GameStop\n",
    "symbol = 'GME'\n",
    "\n",
    "# Use yfinance to download historical data for GameStop\n",
    "gme_stock_data = yf.Ticker(symbol)\n",
    "\n",
    "# Extracting historical stock data (e.g., last 5 years)\n",
    "gme_history = gme_stock_data.history(period='5y')\n",
    "\n",
    "# Display the first few rows of the dataset\n",
    "print(gme_history.head())\n",
    "\n",
    "# Save the data to a CSV file\n",
    "gme_history.to_csv('gamestop_stock_data.csv')\n",
    "\n"
   ]
  },
  {
   "cell_type": "code",
   "execution_count": 57,
   "id": "3c1a4a57-d054-441b-9cd3-af56f183f570",
   "metadata": {},
   "outputs": [
    {
     "name": "stderr",
     "output_type": "stream",
     "text": [
      "[*********************100%***********************]  1 of 1 completed\n"
     ]
    },
    {
     "data": {
      "text/html": [
       "\n",
       "        <iframe\n",
       "            width=\"100%\"\n",
       "            height=\"650\"\n",
       "            src=\"http://127.0.0.1:8050/\"\n",
       "            frameborder=\"0\"\n",
       "            allowfullscreen\n",
       "            \n",
       "        ></iframe>\n",
       "        "
      ],
      "text/plain": [
       "<IPython.lib.display.IFrame at 0x2a274eaea50>"
      ]
     },
     "metadata": {},
     "output_type": "display_data"
    }
   ],
   "source": [
    "import dash\n",
    "from dash import dcc, html\n",
    "from dash.dependencies import Input, Output\n",
    "import plotly.graph_objs as go\n",
    "import yfinance as yf\n",
    "import pandas as pd\n",
    "\n",
    "# Function to create the graph\n",
    "def make_graph(data, title):\n",
    "    figure = go.Figure()\n",
    "    figure.add_trace(go.Scatter(\n",
    "        x=data['Date'],\n",
    "        y=data['Close'],\n",
    "        mode='lines',\n",
    "        name='Tesla Stock Price'\n",
    "    ))\n",
    "    figure.update_layout(\n",
    "        title=title,\n",
    "        xaxis_title='Date',\n",
    "        yaxis_title='Price (USD)',\n",
    "        template='plotly'\n",
    "    )\n",
    "    return figure\n",
    "\n",
    "# Fetch Tesla stock data\n",
    "tesla_data = yf.download('TSLA', start='2020-01-01', end='2024-01-01')\n",
    "tesla_data.reset_index(inplace=True)\n",
    "\n",
    "# Initialize the Dash app\n",
    "app = dash.Dash(__name__)\n",
    "\n",
    "# App layout\n",
    "app.layout = html.Div([\n",
    "    html.H1(\"Tesla Stock Price Dashboard\"),\n",
    "    \n",
    "    dcc.Graph(\n",
    "        id='stock-graph',\n",
    "        figure=make_graph(tesla_data, 'Tesla Stock Price Over Time')\n",
    "    )\n",
    "])\n",
    "\n",
    "# Run the app\n",
    "if __name__ == '__main__':\n",
    "    app.run_server(debug=True)\n"
   ]
  },
  {
   "cell_type": "code",
   "execution_count": 59,
   "id": "e582935b-5b34-47b8-b30a-3c1de0120163",
   "metadata": {},
   "outputs": [
    {
     "name": "stderr",
     "output_type": "stream",
     "text": [
      "[*********************100%***********************]  1 of 1 completed\n"
     ]
    },
    {
     "data": {
      "text/html": [
       "\n",
       "        <iframe\n",
       "            width=\"100%\"\n",
       "            height=\"650\"\n",
       "            src=\"http://127.0.0.1:8050/\"\n",
       "            frameborder=\"0\"\n",
       "            allowfullscreen\n",
       "            \n",
       "        ></iframe>\n",
       "        "
      ],
      "text/plain": [
       "<IPython.lib.display.IFrame at 0x2a274eaea50>"
      ]
     },
     "metadata": {},
     "output_type": "display_data"
    }
   ],
   "source": [
    "import dash\n",
    "from dash import dcc, html\n",
    "from dash.dependencies import Input, Output\n",
    "import plotly.graph_objs as go\n",
    "import yfinance as yf\n",
    "\n",
    "# Fetch GameStop stock data\n",
    "gme_data = yf.download('GME', start='2020-01-01', end='2024-01-01')\n",
    "\n",
    "# Function to create the stock price graph\n",
    "def make_graph(data):\n",
    "    figure = go.Figure()\n",
    "    figure.add_trace(go.Scatter(x=data.index, y=data['Close'], mode='lines', name='GME Stock Price'))\n",
    "    figure.update_layout(title='GameStop Stock Price Over Time',\n",
    "                         xaxis_title='Date',\n",
    "                         yaxis_title='Price (USD)')\n",
    "    return figure\n",
    "\n",
    "# Initialize the Dash app\n",
    "app = dash.Dash(__name__)\n",
    "\n",
    "# App layout\n",
    "app.layout = html.Div([\n",
    "    html.H1(\"GameStop Stock Price Dashboard\"),\n",
    "    dcc.Graph(id='stock-graph', figure=make_graph(gme_data))\n",
    "])\n",
    "\n",
    "# Run the app\n",
    "if __name__ == '__main__':\n",
    "    app.run_server(debug=True)\n",
    "\n"
   ]
  },
  {
   "cell_type": "code",
   "execution_count": null,
   "id": "2a9a271d-6ee3-422e-b5d6-b7fe9b4b6a29",
   "metadata": {},
   "outputs": [],
   "source": []
  },
  {
   "cell_type": "code",
   "execution_count": null,
   "id": "fac09dd3-be4a-45e1-967d-2deffdd18ea6",
   "metadata": {},
   "outputs": [],
   "source": [
    "\n"
   ]
  },
  {
   "cell_type": "code",
   "execution_count": null,
   "id": "f939ef75-44d2-4fa6-8c59-c3c5385a2df3",
   "metadata": {},
   "outputs": [],
   "source": []
  },
  {
   "cell_type": "code",
   "execution_count": 26,
   "id": "12787415-1ac9-4ab0-a24f-2db052633ef9",
   "metadata": {},
   "outputs": [
    {
     "name": "stdout",
     "output_type": "stream",
     "text": [
      "          Date  Revenue\n",
      "0   2024-06-30  25500.0\n",
      "1   2024-03-31  21301.0\n",
      "2   2023-12-31  25167.0\n",
      "3   2023-09-30  23350.0\n",
      "4   2023-06-30  24927.0\n",
      "5   2023-03-31  23329.0\n",
      "6   2022-12-31  24318.0\n",
      "7   2022-09-30  21454.0\n",
      "8   2022-06-30  16934.0\n",
      "9   2022-03-31  18756.0\n",
      "10  2021-12-31  17719.0\n",
      "11  2021-09-30  13757.0\n",
      "12  2021-06-30  11958.0\n",
      "13  2021-03-31  10389.0\n",
      "14  2020-12-31  10744.0\n",
      "15  2020-09-30   8771.0\n",
      "16  2020-06-30   6036.0\n",
      "17  2020-03-31   5985.0\n",
      "18  2019-12-31   7384.0\n",
      "19  2019-09-30   6303.0\n",
      "20  2019-06-30   6350.0\n",
      "21  2019-03-31   4541.0\n",
      "22  2018-12-31   7226.0\n",
      "23  2018-09-30   6824.0\n",
      "24  2018-06-30   4002.0\n",
      "25  2018-03-31   3409.0\n",
      "26  2017-12-31   3288.0\n",
      "27  2017-09-30   2985.0\n",
      "28  2017-06-30   2790.0\n",
      "29  2017-03-31   2696.0\n",
      "30  2016-12-31   2285.0\n",
      "31  2016-09-30   2298.0\n",
      "32  2016-06-30   1270.0\n",
      "33  2016-03-31   1147.0\n",
      "34  2015-12-31   1214.0\n",
      "35  2015-09-30    937.0\n",
      "36  2015-06-30    955.0\n",
      "37  2015-03-31    940.0\n",
      "38  2014-12-31    957.0\n",
      "39  2014-09-30    852.0\n",
      "40  2014-06-30    769.0\n",
      "41  2014-03-31    621.0\n",
      "42  2013-12-31    615.0\n",
      "43  2013-09-30    431.0\n",
      "44  2013-06-30    405.0\n",
      "45  2013-03-31    562.0\n",
      "46  2012-12-31    306.0\n",
      "47  2012-09-30     50.0\n",
      "48  2012-06-30     27.0\n",
      "49  2012-03-31     30.0\n",
      "50  2011-12-31     39.0\n",
      "51  2011-09-30     58.0\n",
      "52  2011-06-30     58.0\n",
      "53  2011-03-31     49.0\n",
      "54  2010-12-31     36.0\n",
      "55  2010-09-30     31.0\n",
      "56  2010-06-30     28.0\n",
      "57  2010-03-31     21.0\n",
      "59  2009-09-30     46.0\n",
      "60  2009-06-30     27.0\n"
     ]
    }
   ],
   "source": [
    "import pandas as pd\n",
    "import numpy as np\n",
    "from selenium import webdriver\n",
    "from selenium.webdriver.chrome.service import Service\n",
    "from webdriver_manager.chrome import ChromeDriverManager\n",
    "from bs4 import BeautifulSoup\n",
    "\n",
    "# Set up Selenium and open the webpage\n",
    "driver = webdriver.Chrome(service=Service(ChromeDriverManager().install()))\n",
    "driver.get(\"https://www.macrotrends.net/stocks/charts/TSLA/tesla/revenue\")\n",
    "\n",
    "# Wait for the page to fully load\n",
    "import time\n",
    "time.sleep(5)\n",
    "\n",
    "# Parse the page source with BeautifulSoup\n",
    "soup = BeautifulSoup(driver.page_source, 'html.parser')\n",
    "driver.quit()\n",
    "\n",
    "# Locate the table that contains revenue data\n",
    "table = soup.find_all('table')[1]  # Make sure the correct table is selected\n",
    "rows = table.find_all('tr')\n",
    "\n",
    "# Extract the rows of financial data\n",
    "revenue_data = []\n",
    "for row in rows[1:]:\n",
    "    cols = row.find_all('td')\n",
    "    date = cols[0].text.strip()\n",
    "    revenue = cols[1].text.strip()\n",
    "    revenue_data.append([date, revenue])\n",
    "\n",
    "# Convert to DataFrame and clean up\n",
    "tesla_revenue_df = pd.DataFrame(revenue_data, columns=['Date', 'Revenue'])\n",
    "\n",
    "# Clean Revenue column: Remove '$', ',', and handle missing/empty values\n",
    "tesla_revenue_df['Revenue'] = tesla_revenue_df['Revenue'].replace('', np.nan)  # Replace empty strings with NaN\n",
    "tesla_revenue_df.dropna(subset=['Revenue'], inplace=True)  # Drop rows with missing revenue\n",
    "\n",
    "# Convert the cleaned Revenue column to float\n",
    "tesla_revenue_df['Revenue'] = tesla_revenue_df['Revenue'].str.replace(',', '').str.replace('$', '').astype(float)\n",
    "\n",
    "# Display the cleaned DataFrame\n",
    "print(tesla_revenue_df)\n",
    "\n"
   ]
  },
  {
   "cell_type": "code",
   "execution_count": null,
   "id": "3bed6451-bb22-4699-b028-bd99e09db38c",
   "metadata": {},
   "outputs": [],
   "source": []
  },
  {
   "cell_type": "code",
   "execution_count": null,
   "id": "e1a0cc1e-cfca-4405-b27a-d496478c824f",
   "metadata": {},
   "outputs": [],
   "source": []
  },
  {
   "cell_type": "code",
   "execution_count": null,
   "id": "b9b3787d-90c7-48c2-9092-a1bfba2be681",
   "metadata": {},
   "outputs": [],
   "source": [
    "\n"
   ]
  },
  {
   "cell_type": "code",
   "execution_count": 34,
   "id": "871683f7-8d8e-4788-be09-6c1e3e695033",
   "metadata": {},
   "outputs": [
    {
     "name": "stderr",
     "output_type": "stream",
     "text": [
      "[*********************100%***********************]  1 of 1 completed\n"
     ]
    },
    {
     "data": {
      "text/html": [
       "\n",
       "        <iframe\n",
       "            width=\"100%\"\n",
       "            height=\"650\"\n",
       "            src=\"http://127.0.0.1:8050/\"\n",
       "            frameborder=\"0\"\n",
       "            allowfullscreen\n",
       "            \n",
       "        ></iframe>\n",
       "        "
      ],
      "text/plain": [
       "<IPython.lib.display.IFrame at 0x2a273facb60>"
      ]
     },
     "metadata": {},
     "output_type": "display_data"
    }
   ],
   "source": [
    "import dash\n",
    "from dash import dcc, html\n",
    "from dash.dependencies import Input, Output\n",
    "import plotly.graph_objs as go\n",
    "import yfinance as yf\n",
    "import pandas as pd\n",
    "\n",
    "# Fetch Tesla stock data\n",
    "tesla_data = yf.download('TSLA', start='2020-01-01', end='2024-01-01')\n",
    "tesla_data.reset_index(inplace=True)\n",
    "\n",
    "# Sample revenue data for Tesla (replace this with your web scraping result)\n",
    "# Example structure for revenue data\n",
    "tesla_revenue_data = {\n",
    "    'Date': ['2020-01-01', '2020-04-01', '2020-07-01', '2020-10-01',\n",
    "             '2021-01-01', '2021-04-01', '2021-07-01', '2021-10-01'],\n",
    "    'Revenue': [7000, 6000, 9000, 8000, 12000, 11000, 14000, 15000]\n",
    "}\n",
    "tesla_revenue_df = pd.DataFrame(tesla_revenue_data)\n",
    "tesla_revenue_df['Date'] = pd.to_datetime(tesla_revenue_df['Date'])\n",
    "\n",
    "# Initialize the Dash app\n",
    "app = dash.Dash(__name__)\n",
    "\n",
    "# App layout\n",
    "app.layout = html.Div([\n",
    "    html.H1(\"Tesla Stock and Revenue Dashboard\"),\n",
    "    dcc.Graph(id='stock-price-graph'),\n",
    "    dcc.Graph(id='revenue-graph'),\n",
    "    dcc.Dropdown(\n",
    "        id='data-dropdown',\n",
    "        options=[\n",
    "            {'label': 'Stock Price', 'value': 'stock'},\n",
    "            {'label': 'Revenue', 'value': 'revenue'}\n",
    "        ],\n",
    "        value='stock',\n",
    "        clearable=False\n",
    "    )\n",
    "])\n",
    "\n",
    "# Callback for updating the stock price graph\n",
    "@app.callback(\n",
    "    Output('stock-price-graph', 'figure'),\n",
    "    Input('data-dropdown', 'value')\n",
    ")\n",
    "def update_stock_price_graph(selected_value):\n",
    "    if selected_value == 'stock':\n",
    "        figure = go.Figure()\n",
    "        figure.add_trace(go.Scatter(x=tesla_data['Date'], y=tesla_data['Close'],\n",
    "                                     mode='lines', name='Stock Price'))\n",
    "        figure.update_layout(title='Tesla Stock Price Over Time',\n",
    "                             xaxis_title='Date',\n",
    "                             yaxis_title='Price (USD)')\n",
    "    else:\n",
    "        figure = go.Figure()\n",
    "        figure.add_trace(go.Bar(x=tesla_revenue_df['Date'], y=tesla_revenue_df['Revenue'],\n",
    "                                 name='Revenue'))\n",
    "        figure.update_layout(title='Tesla Revenue Over Time',\n",
    "                             xaxis_title='Date',\n",
    "                             yaxis_title='Revenue (in millions)')\n",
    "\n",
    "    return figure\n",
    "\n",
    "# Callback for updating the revenue graph\n",
    "@app.callback(\n",
    "    Output('revenue-graph', 'figure'),\n",
    "    Input('data-dropdown', 'value')\n",
    ")\n",
    "def update_revenue_graph(selected_value):\n",
    "    if selected_value == 'revenue':\n",
    "        figure = go.Figure()\n",
    "        figure.add_trace(go.Bar(x=tesla_revenue_df['Date'], y=tesla_revenue_df['Revenue'],\n",
    "                                 name='Revenue'))\n",
    "        figure.update_layout(title='Tesla Revenue Over Time',\n",
    "                             xaxis_title='Date',\n",
    "                             yaxis_title='Revenue (in millions)')\n",
    "    else:\n",
    "        figure = go.Figure()\n",
    "        figure.add_trace(go.Scatter(x=tesla_data['Date'], y=tesla_data['Close'],\n",
    "                                     mode='lines', name='Stock Price'))\n",
    "        figure.update_layout(title='Tesla Stock Price Over Time',\n",
    "                             xaxis_title='Date',\n",
    "                             yaxis_title='Price (USD)')\n",
    "\n",
    "    return figure\n",
    "\n",
    "# Run the app\n",
    "if __name__ == '__main__':\n",
    "    app.run_server(debug=True)\n"
   ]
  },
  {
   "cell_type": "code",
   "execution_count": 36,
   "id": "118a911b-ad2c-4de8-9e30-459c76e4facf",
   "metadata": {},
   "outputs": [
    {
     "name": "stdout",
     "output_type": "stream",
     "text": [
      "          Date  Revenue\n",
      "0   2024-07-31    798.0\n",
      "1   2024-04-30    882.0\n",
      "2   2024-01-31   1794.0\n",
      "3   2023-10-31   1078.0\n",
      "4   2023-07-31   1164.0\n",
      "..         ...      ...\n",
      "58  2010-01-31   3524.0\n",
      "59  2009-10-31   1835.0\n",
      "60  2009-07-31   1739.0\n",
      "61  2009-04-30   1981.0\n",
      "62  2009-01-31   3492.0\n",
      "\n",
      "[63 rows x 2 columns]\n"
     ]
    }
   ],
   "source": [
    "import pandas as pd\n",
    "import numpy as np\n",
    "from selenium import webdriver\n",
    "from selenium.webdriver.chrome.service import Service\n",
    "from webdriver_manager.chrome import ChromeDriverManager\n",
    "from bs4 import BeautifulSoup\n",
    "\n",
    "# Set up Selenium and open the webpage\n",
    "driver = webdriver.Chrome(service=Service(ChromeDriverManager().install()))\n",
    "driver.get(\"https://www.macrotrends.net/stocks/charts/GME/gamestop/revenue\")\n",
    "\n",
    "# Wait for the page to fully load\n",
    "import time\n",
    "time.sleep(5)\n",
    "\n",
    "# Parse the page source with BeautifulSoup\n",
    "soup = BeautifulSoup(driver.page_source, 'html.parser')\n",
    "driver.quit()\n",
    "\n",
    "# Locate the table that contains revenue data\n",
    "table = soup.find_all('table')[1]  # Ensure this is the correct table index\n",
    "rows = table.find_all('tr')\n",
    "\n",
    "# Extract the rows of financial data\n",
    "revenue_data = []\n",
    "for row in rows[1:]:\n",
    "    cols = row.find_all('td')\n",
    "    date = cols[0].text.strip()\n",
    "    revenue = cols[1].text.strip()\n",
    "    revenue_data.append([date, revenue])\n",
    "\n",
    "# Convert to DataFrame and clean up\n",
    "gme_revenue_df = pd.DataFrame(revenue_data, columns=['Date', 'Revenue'])\n",
    "\n",
    "# Clean Revenue column: Remove '$', ',', and handle missing/empty values\n",
    "gme_revenue_df['Revenue'] = gme_revenue_df['Revenue'].replace('', np.nan)  # Replace empty strings with NaN\n",
    "gme_revenue_df.dropna(subset=['Revenue'], inplace=True)  # Drop rows with missing revenue\n",
    "\n",
    "# Convert the cleaned Revenue column to float\n",
    "gme_revenue_df['Revenue'] = gme_revenue_df['Revenue'].str.replace(',', '').str.replace('$', '').astype(float)\n",
    "\n",
    "# Display the cleaned DataFrame\n",
    "print(gme_revenue_df)\n"
   ]
  },
  {
   "cell_type": "code",
   "execution_count": null,
   "id": "59c9df2c-7bef-46a6-a83e-f3a0091a2e1d",
   "metadata": {},
   "outputs": [],
   "source": []
  },
  {
   "cell_type": "code",
   "execution_count": 49,
   "id": "4332b50a-6c80-40e8-8e12-def57d8adf69",
   "metadata": {},
   "outputs": [
    {
     "name": "stderr",
     "output_type": "stream",
     "text": [
      "[*********************100%***********************]  1 of 1 completed\n"
     ]
    },
    {
     "name": "stdout",
     "output_type": "stream",
     "text": [
      "              Open    High     Low   Close  Adj Close    Volume\n",
      "Date                                                           \n",
      "2020-01-02  1.5350  1.6175  1.5175  1.5775     1.5775  17814400\n",
      "2020-01-03  1.5525  1.5625  1.4600  1.4700     1.4700  14175600\n",
      "2020-01-06  1.4500  1.4775  1.4000  1.4625     1.4625  13579200\n",
      "2020-01-07  1.4425  1.4575  1.3600  1.3800     1.3800  20912000\n",
      "2020-01-08  1.3725  1.4625  1.3525  1.4300     1.4300  22517600\n"
     ]
    },
    {
     "data": {
      "image/png": "[encoded data removed]",
      "text/plain": [
       "<Figure size 1000x500 with 1 Axes>"
      ]
     },
     "metadata": {},
     "output_type": "display_data"
    }
   ],
   "source": [
    "import yfinance as yf\n",
    "import matplotlib.pyplot as plt\n",
    "\n",
    "# Fetch GameStop stock data\n",
    "gme_data = yf.download('GME', start='2020-01-01', end='2024-01-01')\n",
    "\n",
    "# Verify the data\n",
    "print(gme_data.head())\n",
    "\n",
    "# Plotting GameStop Stock Price\n",
    "plt.figure(figsize=(10, 5))\n",
    "plt.plot(gme_data.index, gme_data['Close'], label='GME Stock Price', color='blue')\n",
    "plt.title('GameStop Stock Price Over Time')\n",
    "plt.xlabel('Date')\n",
    "plt.ylabel('Price (USD)')\n",
    "plt.legend()\n",
    "plt.grid()\n",
    "plt.show()\n"
   ]
  },
  {
   "cell_type": "code",
   "execution_count": 53,
   "id": "9d9bd57e-8e70-4734-8fee-d5c21b4106cc",
   "metadata": {},
   "outputs": [
    {
     "name": "stderr",
     "output_type": "stream",
     "text": [
      "[*********************100%***********************]  1 of 1 completed\n"
     ]
    },
    {
     "name": "stdout",
     "output_type": "stream",
     "text": [
      "Revenue data file not found. Please ensure the file path is correct.\n"
     ]
    },
    {
     "data": {
      "text/html": [
       "\n",
       "        <iframe\n",
       "            width=\"100%\"\n",
       "            height=\"650\"\n",
       "            src=\"http://127.0.0.1:8050/\"\n",
       "            frameborder=\"0\"\n",
       "            allowfullscreen\n",
       "            \n",
       "        ></iframe>\n",
       "        "
      ],
      "text/plain": [
       "<IPython.lib.display.IFrame at 0x2a274ead8b0>"
      ]
     },
     "metadata": {},
     "output_type": "display_data"
    }
   ],
   "source": [
    "import dash\n",
    "from dash import dcc, html\n",
    "from dash.dependencies import Input, Output\n",
    "import plotly.graph_objs as go\n",
    "import pandas as pd\n",
    "import yfinance as yf\n",
    "\n",
    "# Fetch GameStop stock data\n",
    "gme_data = yf.download('GME', start='2020-01-01', end='2024-01-01')\n",
    "gme_data.reset_index(inplace=True)\n",
    "\n",
    "# Fetch GameStop revenue data from a CSV file or an external source\n",
    "# Make sure you have a CSV file with at least two columns: 'Date' and 'Revenue'\n",
    "# Replace 'gme_revenue.csv' with your actual revenue data file path\n",
    "try:\n",
    "    gme_revenue_df = pd.read_csv('gme_revenue.csv')  # Update with your CSV file path\n",
    "    gme_revenue_df['Date'] = pd.to_datetime(gme_revenue_df['Date'])\n",
    "except FileNotFoundError:\n",
    "    print(\"Revenue data file not found. Please ensure the file path is correct.\")\n",
    "\n",
    "# Initialize the Dash app\n",
    "app = dash.Dash(__name__)\n",
    "\n",
    "# App layout\n",
    "app.layout = html.Div([\n",
    "    html.H1(\"GameStop Stock and Revenue Dashboard\"),\n",
    "    \n",
    "    dcc.Graph(id='data-graph'),\n",
    "    \n",
    "    dcc.Dropdown(\n",
    "        id='data-dropdown',\n",
    "        options=[\n",
    "            {'label': 'GME Stock Price', 'value': 'stock'},\n",
    "            {'label': 'GME Revenue', 'value': 'revenue'}\n",
    "        ],\n",
    "        value='stock',\n",
    "        clearable=False\n",
    "    )\n",
    "])\n",
    "\n",
    "# Callback to update the graph based on dropdown selection\n",
    "@app.callback(\n",
    "    Output('data-graph', 'figure'),\n",
    "    Input('data-dropdown', 'value')\n",
    ")\n",
    "def update_graph(selected_value):\n",
    "    figure = go.Figure()\n",
    "\n",
    "    if selected_value == 'stock':\n",
    "        figure.add_trace(go.Scatter(\n",
    "            x=gme_data['Date'],\n",
    "            y=gme_data['Close'],\n",
    "            mode='lines',\n",
    "            name='GME Stock Price'\n",
    "        ))\n",
    "        figure.update_layout(\n",
    "            title='GameStop Stock Price Over Time',\n",
    "            xaxis_title='Date',\n",
    "            yaxis_title='Price (USD)'\n",
    "        )\n",
    "    else:  # Revenue\n",
    "        if 'gme_revenue_df' in locals():  # Check if revenue data is loaded\n",
    "            figure.add_trace(go.Scatter(\n",
    "                x=gme_revenue_df['Date'],\n",
    "                y=gme_revenue_df['Revenue'],\n",
    "                mode='lines',\n",
    "                name='GME Revenue',\n",
    "                line=dict(color='orange')\n",
    "            ))\n",
    "            figure.update_layout(\n",
    "                title='GameStop Revenue Over Time',\n",
    "                xaxis_title='Date',\n",
    "                yaxis_title='Revenue (in Millions USD)'\n",
    "            )\n",
    "        else:\n",
    "            figure.update_layout(\n",
    "                title='Revenue Data Not Available',\n",
    "                xaxis_title='Date',\n",
    "                yaxis_title='Revenue'\n",
    "            )\n",
    "\n",
    "    return figure\n",
    "\n",
    "# Run the app\n",
    "if __name__ == '__main__':\n",
    "    app.run_server(debug=True)\n",
    "\n"
   ]
  },
  {
   "cell_type": "code",
   "execution_count": null,
   "id": "7505ad8c-abf3-4e20-b056-b92dfabe1c05",
   "metadata": {},
   "outputs": [],
   "source": []
  }
 ],
 "metadata": {
  "kernelspec": {
   "display_name": "Python 3 (ipykernel)",
   "language": "python",
   "name": "python3"
  },
  "language_info": {
   "codemirror_mode": {
    "name": "ipython",
    "version": 3
   },
   "file_extension": ".py",
   "mimetype": "text/x-python",
   "name": "python",
   "nbconvert_exporter": "python",
   "pygments_lexer": "ipython3",
   "version": "3.12.4"
  }
 },
 "nbformat": 4,
 "nbformat_minor": 5
}
